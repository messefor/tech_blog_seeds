{
 "cells": [
  {
   "cell_type": "markdown",
   "id": "71c52fb0-1a8a-4008-8520-b34eaaa95fef",
   "metadata": {},
   "source": [
    "# 学習メモ 21.11.30"
   ]
  },
  {
   "cell_type": "markdown",
   "id": "0ab84f93-cccb-42a0-b5b0-334e5aafa03e",
   "metadata": {},
   "source": [
    "## pd.Seriesの文字列の結合\n",
    "pd.Series同士の文字列は`+`演算子で結合できるらしい"
   ]
  },
  {
   "cell_type": "code",
   "execution_count": 4,
   "id": "c3588f05-b68a-4755-90c1-3c90033056ff",
   "metadata": {},
   "outputs": [
    {
     "name": "stdout",
     "output_type": "stream",
     "text": [
      "0    aA\n",
      "1    bB\n",
      "2    cC\n",
      "dtype: object\n"
     ]
    }
   ],
   "source": [
    "import pandas as pd\n",
    "\n",
    "x1 = pd.Series(['a', 'b', 'c']) + pd.Series(['A', 'B', 'C'])\n",
    "print(x1)"
   ]
  },
  {
   "cell_type": "code",
   "execution_count": 5,
   "id": "c77b6172-d404-4a5a-862d-7f6e2e67e428",
   "metadata": {},
   "outputs": [
    {
     "name": "stdout",
     "output_type": "stream",
     "text": [
      "0    aA\n",
      "1    bB\n",
      "2    cC\n",
      "dtype: object\n"
     ]
    }
   ],
   "source": [
    "X = pd.DataFrame({'x': ['a', 'b', 'c'], 'y': ['A', 'B', 'C']})\n",
    "x2 = X['x'] + X['y']\n",
    "print(x2)"
   ]
  },
  {
   "cell_type": "markdown",
   "id": "b81d5057-0dac-43d4-a59f-5b43239743eb",
   "metadata": {},
   "source": [
    "## pd.mapメソッドはpd.Seriesを渡しても動くらしい\n",
    "pd.map(dict())と思っていた"
   ]
  },
  {
   "cell_type": "code",
   "execution_count": 10,
   "id": "0c3cda46-d18d-4747-8444-b6d947d79c8c",
   "metadata": {},
   "outputs": [
    {
     "data": {
      "text/plain": [
       "0     a\n",
       "1     b\n",
       "2     c\n",
       "3     a\n",
       "4     b\n",
       "5     c\n",
       "6     d\n",
       "7     e\n",
       "8     g\n",
       "9     c\n",
       "10    d\n",
       "11    d\n",
       "12    d\n",
       "dtype: object"
      ]
     },
     "execution_count": 10,
     "metadata": {},
     "output_type": "execute_result"
    }
   ],
   "source": [
    "x = pd.Series(list('abcabcdegcddd'))\n",
    "x"
   ]
  },
  {
   "cell_type": "code",
   "execution_count": 12,
   "id": "e3676957-8f1b-49df-8fd9-16d0fa154b79",
   "metadata": {},
   "outputs": [
    {
     "data": {
      "text/plain": [
       "0       A\n",
       "1       B\n",
       "2       C\n",
       "3       A\n",
       "4       B\n",
       "5       C\n",
       "6     NaN\n",
       "7     NaN\n",
       "8     NaN\n",
       "9       C\n",
       "10    NaN\n",
       "11    NaN\n",
       "12    NaN\n",
       "dtype: object"
      ]
     },
     "execution_count": 12,
     "metadata": {},
     "output_type": "execute_result"
    }
   ],
   "source": [
    "m = pd.Series(list('ABC'), index=list('abc'))\n",
    "x.map(m)"
   ]
  },
  {
   "cell_type": "markdown",
   "id": "05a8729c-be95-4ff7-96c4-52c810b556fc",
   "metadata": {},
   "source": [
    "## datautil parseというものがあるらしい"
   ]
  },
  {
   "cell_type": "code",
   "execution_count": 14,
   "id": "4777d642-4292-4961-813d-8fbdb23128df",
   "metadata": {},
   "outputs": [
    {
     "data": {
      "text/plain": [
       "datetime.datetime(2021, 10, 11, 5, 10)"
      ]
     },
     "execution_count": 14,
     "metadata": {},
     "output_type": "execute_result"
    }
   ],
   "source": [
    "from dateutil.parser import parse\n",
    "\n",
    "parse('2021-10-11 5:10')"
   ]
  },
  {
   "cell_type": "markdown",
   "id": "1a2fafb8-5e1a-4390-9c67-909b0e757d2f",
   "metadata": {},
   "source": [
    "## queryメソッドを使ってみる"
   ]
  },
  {
   "cell_type": "code",
   "execution_count": 30,
   "id": "4f34feb6-9389-4131-b1f3-7eb5358b431b",
   "metadata": {},
   "outputs": [],
   "source": [
    "from sklearn.datasets import load_iris\n",
    "import numpy as np"
   ]
  },
  {
   "cell_type": "code",
   "execution_count": 41,
   "id": "200953d5-d277-496d-8083-a5f2b10aca59",
   "metadata": {},
   "outputs": [],
   "source": [
    "iris = load_iris()\n",
    "X = pd.DataFrame(iris.data, columns=['sep_len', 'sep_w', 'pet_len', 'pet_w'])\n",
    "X['y'] = list(map(lambda x: iris.target_names[x], iris.target))"
   ]
  },
  {
   "cell_type": "code",
   "execution_count": 42,
   "id": "2c3d801f-abc4-495e-92ca-424d7e41f5f8",
   "metadata": {},
   "outputs": [
    {
     "data": {
      "text/html": [
       "<div>\n",
       "<style scoped>\n",
       "    .dataframe tbody tr th:only-of-type {\n",
       "        vertical-align: middle;\n",
       "    }\n",
       "\n",
       "    .dataframe tbody tr th {\n",
       "        vertical-align: top;\n",
       "    }\n",
       "\n",
       "    .dataframe thead th {\n",
       "        text-align: right;\n",
       "    }\n",
       "</style>\n",
       "<table border=\"1\" class=\"dataframe\">\n",
       "  <thead>\n",
       "    <tr style=\"text-align: right;\">\n",
       "      <th></th>\n",
       "      <th>sep_len</th>\n",
       "      <th>sep_w</th>\n",
       "      <th>pet_len</th>\n",
       "      <th>pet_w</th>\n",
       "      <th>y</th>\n",
       "    </tr>\n",
       "  </thead>\n",
       "  <tbody>\n",
       "    <tr>\n",
       "      <th>0</th>\n",
       "      <td>5.1</td>\n",
       "      <td>3.5</td>\n",
       "      <td>1.4</td>\n",
       "      <td>0.2</td>\n",
       "      <td>setosa</td>\n",
       "    </tr>\n",
       "    <tr>\n",
       "      <th>1</th>\n",
       "      <td>4.9</td>\n",
       "      <td>3.0</td>\n",
       "      <td>1.4</td>\n",
       "      <td>0.2</td>\n",
       "      <td>setosa</td>\n",
       "    </tr>\n",
       "    <tr>\n",
       "      <th>2</th>\n",
       "      <td>4.7</td>\n",
       "      <td>3.2</td>\n",
       "      <td>1.3</td>\n",
       "      <td>0.2</td>\n",
       "      <td>setosa</td>\n",
       "    </tr>\n",
       "    <tr>\n",
       "      <th>3</th>\n",
       "      <td>4.6</td>\n",
       "      <td>3.1</td>\n",
       "      <td>1.5</td>\n",
       "      <td>0.2</td>\n",
       "      <td>setosa</td>\n",
       "    </tr>\n",
       "    <tr>\n",
       "      <th>4</th>\n",
       "      <td>5.0</td>\n",
       "      <td>3.6</td>\n",
       "      <td>1.4</td>\n",
       "      <td>0.2</td>\n",
       "      <td>setosa</td>\n",
       "    </tr>\n",
       "    <tr>\n",
       "      <th>...</th>\n",
       "      <td>...</td>\n",
       "      <td>...</td>\n",
       "      <td>...</td>\n",
       "      <td>...</td>\n",
       "      <td>...</td>\n",
       "    </tr>\n",
       "    <tr>\n",
       "      <th>145</th>\n",
       "      <td>6.7</td>\n",
       "      <td>3.0</td>\n",
       "      <td>5.2</td>\n",
       "      <td>2.3</td>\n",
       "      <td>virginica</td>\n",
       "    </tr>\n",
       "    <tr>\n",
       "      <th>146</th>\n",
       "      <td>6.3</td>\n",
       "      <td>2.5</td>\n",
       "      <td>5.0</td>\n",
       "      <td>1.9</td>\n",
       "      <td>virginica</td>\n",
       "    </tr>\n",
       "    <tr>\n",
       "      <th>147</th>\n",
       "      <td>6.5</td>\n",
       "      <td>3.0</td>\n",
       "      <td>5.2</td>\n",
       "      <td>2.0</td>\n",
       "      <td>virginica</td>\n",
       "    </tr>\n",
       "    <tr>\n",
       "      <th>148</th>\n",
       "      <td>6.2</td>\n",
       "      <td>3.4</td>\n",
       "      <td>5.4</td>\n",
       "      <td>2.3</td>\n",
       "      <td>virginica</td>\n",
       "    </tr>\n",
       "    <tr>\n",
       "      <th>149</th>\n",
       "      <td>5.9</td>\n",
       "      <td>3.0</td>\n",
       "      <td>5.1</td>\n",
       "      <td>1.8</td>\n",
       "      <td>virginica</td>\n",
       "    </tr>\n",
       "  </tbody>\n",
       "</table>\n",
       "<p>150 rows × 5 columns</p>\n",
       "</div>"
      ],
      "text/plain": [
       "     sep_len  sep_w  pet_len  pet_w          y\n",
       "0        5.1    3.5      1.4    0.2     setosa\n",
       "1        4.9    3.0      1.4    0.2     setosa\n",
       "2        4.7    3.2      1.3    0.2     setosa\n",
       "3        4.6    3.1      1.5    0.2     setosa\n",
       "4        5.0    3.6      1.4    0.2     setosa\n",
       "..       ...    ...      ...    ...        ...\n",
       "145      6.7    3.0      5.2    2.3  virginica\n",
       "146      6.3    2.5      5.0    1.9  virginica\n",
       "147      6.5    3.0      5.2    2.0  virginica\n",
       "148      6.2    3.4      5.4    2.3  virginica\n",
       "149      5.9    3.0      5.1    1.8  virginica\n",
       "\n",
       "[150 rows x 5 columns]"
      ]
     },
     "execution_count": 42,
     "metadata": {},
     "output_type": "execute_result"
    }
   ],
   "source": [
    "X"
   ]
  },
  {
   "cell_type": "code",
   "execution_count": 43,
   "id": "35c50b28-d7ba-47c6-a523-b2e1ff38368d",
   "metadata": {},
   "outputs": [
    {
     "data": {
      "text/html": [
       "<div>\n",
       "<style scoped>\n",
       "    .dataframe tbody tr th:only-of-type {\n",
       "        vertical-align: middle;\n",
       "    }\n",
       "\n",
       "    .dataframe tbody tr th {\n",
       "        vertical-align: top;\n",
       "    }\n",
       "\n",
       "    .dataframe thead th {\n",
       "        text-align: right;\n",
       "    }\n",
       "</style>\n",
       "<table border=\"1\" class=\"dataframe\">\n",
       "  <thead>\n",
       "    <tr style=\"text-align: right;\">\n",
       "      <th></th>\n",
       "      <th>sep_len</th>\n",
       "      <th>sep_w</th>\n",
       "      <th>pet_len</th>\n",
       "      <th>pet_w</th>\n",
       "      <th>y</th>\n",
       "    </tr>\n",
       "  </thead>\n",
       "  <tbody>\n",
       "    <tr>\n",
       "      <th>0</th>\n",
       "      <td>5.1</td>\n",
       "      <td>3.5</td>\n",
       "      <td>1.4</td>\n",
       "      <td>0.2</td>\n",
       "      <td>setosa</td>\n",
       "    </tr>\n",
       "    <tr>\n",
       "      <th>4</th>\n",
       "      <td>5.0</td>\n",
       "      <td>3.6</td>\n",
       "      <td>1.4</td>\n",
       "      <td>0.2</td>\n",
       "      <td>setosa</td>\n",
       "    </tr>\n",
       "    <tr>\n",
       "      <th>5</th>\n",
       "      <td>5.4</td>\n",
       "      <td>3.9</td>\n",
       "      <td>1.7</td>\n",
       "      <td>0.4</td>\n",
       "      <td>setosa</td>\n",
       "    </tr>\n",
       "    <tr>\n",
       "      <th>7</th>\n",
       "      <td>5.0</td>\n",
       "      <td>3.4</td>\n",
       "      <td>1.5</td>\n",
       "      <td>0.2</td>\n",
       "      <td>setosa</td>\n",
       "    </tr>\n",
       "    <tr>\n",
       "      <th>10</th>\n",
       "      <td>5.4</td>\n",
       "      <td>3.7</td>\n",
       "      <td>1.5</td>\n",
       "      <td>0.2</td>\n",
       "      <td>setosa</td>\n",
       "    </tr>\n",
       "  </tbody>\n",
       "</table>\n",
       "</div>"
      ],
      "text/plain": [
       "    sep_len  sep_w  pet_len  pet_w       y\n",
       "0       5.1    3.5      1.4    0.2  setosa\n",
       "4       5.0    3.6      1.4    0.2  setosa\n",
       "5       5.4    3.9      1.7    0.4  setosa\n",
       "7       5.0    3.4      1.5    0.2  setosa\n",
       "10      5.4    3.7      1.5    0.2  setosa"
      ]
     },
     "execution_count": 43,
     "metadata": {},
     "output_type": "execute_result"
    }
   ],
   "source": [
    "# X[X.sep_len >= 5.0]\n",
    "X.query('sep_len >= 5.0').head()"
   ]
  },
  {
   "cell_type": "code",
   "execution_count": 44,
   "id": "13b29a9b-38e9-469d-b458-750ccc23949f",
   "metadata": {},
   "outputs": [
    {
     "data": {
      "text/html": [
       "<div>\n",
       "<style scoped>\n",
       "    .dataframe tbody tr th:only-of-type {\n",
       "        vertical-align: middle;\n",
       "    }\n",
       "\n",
       "    .dataframe tbody tr th {\n",
       "        vertical-align: top;\n",
       "    }\n",
       "\n",
       "    .dataframe thead th {\n",
       "        text-align: right;\n",
       "    }\n",
       "</style>\n",
       "<table border=\"1\" class=\"dataframe\">\n",
       "  <thead>\n",
       "    <tr style=\"text-align: right;\">\n",
       "      <th></th>\n",
       "      <th>sep_len</th>\n",
       "      <th>sep_w</th>\n",
       "      <th>pet_len</th>\n",
       "      <th>pet_w</th>\n",
       "      <th>y</th>\n",
       "    </tr>\n",
       "  </thead>\n",
       "  <tbody>\n",
       "    <tr>\n",
       "      <th>0</th>\n",
       "      <td>5.1</td>\n",
       "      <td>3.5</td>\n",
       "      <td>1.4</td>\n",
       "      <td>0.2</td>\n",
       "      <td>setosa</td>\n",
       "    </tr>\n",
       "    <tr>\n",
       "      <th>1</th>\n",
       "      <td>4.9</td>\n",
       "      <td>3.0</td>\n",
       "      <td>1.4</td>\n",
       "      <td>0.2</td>\n",
       "      <td>setosa</td>\n",
       "    </tr>\n",
       "    <tr>\n",
       "      <th>2</th>\n",
       "      <td>4.7</td>\n",
       "      <td>3.2</td>\n",
       "      <td>1.3</td>\n",
       "      <td>0.2</td>\n",
       "      <td>setosa</td>\n",
       "    </tr>\n",
       "    <tr>\n",
       "      <th>3</th>\n",
       "      <td>4.6</td>\n",
       "      <td>3.1</td>\n",
       "      <td>1.5</td>\n",
       "      <td>0.2</td>\n",
       "      <td>setosa</td>\n",
       "    </tr>\n",
       "    <tr>\n",
       "      <th>4</th>\n",
       "      <td>5.0</td>\n",
       "      <td>3.6</td>\n",
       "      <td>1.4</td>\n",
       "      <td>0.2</td>\n",
       "      <td>setosa</td>\n",
       "    </tr>\n",
       "  </tbody>\n",
       "</table>\n",
       "</div>"
      ],
      "text/plain": [
       "   sep_len  sep_w  pet_len  pet_w       y\n",
       "0      5.1    3.5      1.4    0.2  setosa\n",
       "1      4.9    3.0      1.4    0.2  setosa\n",
       "2      4.7    3.2      1.3    0.2  setosa\n",
       "3      4.6    3.1      1.5    0.2  setosa\n",
       "4      5.0    3.6      1.4    0.2  setosa"
      ]
     },
     "execution_count": 44,
     "metadata": {},
     "output_type": "execute_result"
    }
   ],
   "source": [
    "X.query('y.str.startswith(\"set\")').head()"
   ]
  },
  {
   "cell_type": "code",
   "execution_count": null,
   "id": "96f0ccba-8ac7-47a2-bea3-4821cccfd717",
   "metadata": {},
   "outputs": [],
   "source": []
  }
 ],
 "metadata": {
  "kernelspec": {
   "display_name": "Python 3.8.12 64-bit ('py38': conda)",
   "language": "python",
   "name": "python3812jvsc74a57bd03eba4503ad8f10a061053901e5a5564cf5c0bc3ad30a063fdac66e671586b6f5"
  },
  "language_info": {
   "codemirror_mode": {
    "name": "ipython",
    "version": 3
   },
   "file_extension": ".py",
   "mimetype": "text/x-python",
   "name": "python",
   "nbconvert_exporter": "python",
   "pygments_lexer": "ipython3",
   "version": "3.8.12"
  }
 },
 "nbformat": 4,
 "nbformat_minor": 5
}
